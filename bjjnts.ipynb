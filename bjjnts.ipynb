{
  "nbformat": 4,
  "nbformat_minor": 0,
  "metadata": {
    "colab": {
      "name": "Untitled0.ipynb",
      "provenance": [],
      "collapsed_sections": [],
      "authorship_tag": "ABX9TyMtmYKNdVELmf4YGp735tqs",
      "include_colab_link": true
    },
    "kernelspec": {
      "name": "python3",
      "display_name": "Python 3"
    }
  },
  "cells": [
    {
      "cell_type": "markdown",
      "metadata": {
        "id": "view-in-github",
        "colab_type": "text"
      },
      "source": [
        "<a href=\"https://colab.research.google.com/github/nijixucai/python3/blob/master/bjjnts.ipynb\" target=\"_parent\"><img src=\"https://colab.research.google.com/assets/colab-badge.svg\" alt=\"Open In Colab\"/></a>"
      ]
    },
    {
      "cell_type": "code",
      "metadata": {
        "id": "21tvN314xWxM",
        "colab_type": "code",
        "colab": {
          "base_uri": "https://localhost:8080/",
          "height": 34
        },
        "outputId": "66eecb06-a4a2-4492-8c71-c6247a359fc7"
      },
      "source": [
        "print(\"hello world\")"
      ],
      "execution_count": 1,
      "outputs": [
        {
          "output_type": "stream",
          "text": [
            "hello world\n"
          ],
          "name": "stdout"
        }
      ]
    },
    {
      "cell_type": "code",
      "metadata": {
        "id": "7Rt_pI5pyEaH",
        "colab_type": "code",
        "colab": {}
      },
      "source": [
        "import requests\n",
        "from bs4 import BeautifulSoup\n",
        "import re\n",
        "\n",
        "import time\n",
        "\n",
        "\n",
        "# 定义爬虫类\n",
        "class Spider():\n",
        "    def __init__(self):\n",
        "        # self.url = 'https://movie.douban.com/cinema/nowplaying/beijing/'\n",
        "        self.url = 'https://www.bjjnts.cn/lessonStudy/39/1239'\n",
        "\n",
        "        self.headers = {\n",
        "            'User-Agent': 'Mozilla/5.0 (Macintosh; Intel Mac OS X 10_15_5) AppleWebKit/537.36 (KHTML, like Gecko) Chrome/83.0.4103.116 Safari/537.36',\n",
        "            'Cookie': '''lessonid=1254; GUIDE_MAP:=1594966693; Hm_lvt_83efb6da7f0d1882680d3ee8ad0d78f0=1594712208,1594966695; PHPSESSID=3njfgm2qbqnf8np9lkcjtirfd2; acw_tc=2760825a15953084949918871efd94116a5e01b1fe5749f4f9d770a2743f57; Hm_lpvt_83efb6da7f0d1882680d3ee8ad0d78f0=1595308499'''\n",
        "        }\n",
        "        r = requests.get(self.url, headers=self.headers)\n",
        "        r.encoding = r.apparent_encoding\n",
        "        self.html = r.text\n",
        "\n",
        "    def BeautifulSoup_find(self):\n",
        "        \"\"\"用BeautifulSoup解析\"\"\"\n",
        "        start = time.time()\n",
        "        # 转换为BeautifulSoup的解析对象()里第二个参数为解析方式\n",
        "        soup = BeautifulSoup(self.html, 'html.parser')\n",
        "        # print(soup)\n",
        "        course_study_sonmenu = soup.find_all('div', class_='course_study_sonmenu')\n",
        "        return course_study_sonmenu\n",
        "\n",
        "\n",
        "if __name__ == '__main__':\n",
        "    spider = Spider()"
      ],
      "execution_count": 36,
      "outputs": []
    },
    {
      "cell_type": "code",
      "metadata": {
        "id": "iGa9zt_s4qnL",
        "colab_type": "code",
        "colab": {
          "base_uri": "https://localhost:8080/",
          "height": 326
        },
        "outputId": "58204cd3-7824-4ce6-ddbd-019f6ac8c27d"
      },
      "source": [
        "course_study_sonmenu = spider.BeautifulSoup_find()\n",
        "def parsing_course_study_sonmenu(course_study_sonmenu):\n",
        "    print(\"======================\")\n",
        "    for each in course_study_sonmenu:\n",
        "        print(\"each type:\" ,type(each))\n",
        "        print(\"======================\")\n",
        "        lesson_info = each.find('a', attrs={'class': re.compile('change_chapter(.*)')})\n",
        "        parsing_lesson_info(lesson_info)\n",
        "        break\n",
        "\n",
        "def parsing_lesson_info(lesson_info):\n",
        "    print(\"lesson_info type:\", type(lesson_info))\n",
        "    print(lesson_info)\n",
        "    print(\"======================\")\n",
        "    learnduration = lesson_info.get(\"data-learnduration\")\n",
        "    lessonid = lesson_info.get(\"data-lessonid\")\n",
        "    # learnduration = lesson_info.find('data-learndurati?on', attrs={'data-learnduration': re.compile('(.*)')})\n",
        "    print(\"learnduration type:\",type(learnduration),\" learnduration value:\",learnduration)\n",
        "    print(\"lessonid type:\",type(lessonid),\" lessonid value:\",lessonid)\n",
        "\n",
        "parsing_course_study_sonmenu(course_study_sonmenu)"
      ],
      "execution_count": 54,
      "outputs": [
        {
          "output_type": "stream",
          "text": [
            "======================\n",
            "each type: <class 'bs4.element.Tag'>\n",
            "======================\n",
            "lesson_info type: <class 'bs4.element.Tag'>\n",
            "<a class=\"change_chapter lesson-1\" data-facetime=\"[]\" data-isface=\"0\" data-learnduration=\"739\" data-lessonid=\"1239\" data-lessonnum=\"1\" data-lock=\"0\" href=\"javascript:;\">\n",
            "<div class=\"course_study_menubox\">\n",
            "<h4 class=\"course_study_menutitle\">1.1 What is behavior</h4>\n",
            "<p class=\"course_study_menudate\">(00:12:19)</p>\n",
            "</div>\n",
            "<span class=\"course_study_menuschedule\">\r\n",
            "                                                                                            已完成<br/>\r\n",
            "                                                                                            100%\r\n",
            "                                                                                    </span>\n",
            "</a>\n",
            "======================\n",
            "learnduration type: <class 'str'>  learnduration value: 739\n",
            "lessonid type: <class 'str'>  lessonid value: 1239\n"
          ],
          "name": "stdout"
        }
      ]
    },
    {
      "cell_type": "code",
      "metadata": {
        "id": "iu0K6a6L7K1V",
        "colab_type": "code",
        "colab": {}
      },
      "source": [
        ""
      ],
      "execution_count": null,
      "outputs": []
    }
  ]
}